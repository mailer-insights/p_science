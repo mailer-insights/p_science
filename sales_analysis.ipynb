{
 "cells": [
  {
   "cell_type": "code",
   "execution_count": null,
   "metadata": {},
   "outputs": [],
   "source": [
    "import calendar\n",
    "\n",
    "import pandas as pd\n",
    "import requests\n",
    "import plotly.graph_objs as go\n",
    "from plotly.offline import download_plotlyjs, init_notebook_mode, plot, iplot\n",
    "from tabula import read_pdf\n",
    "import zipfile\n"
   ]
  },
  {
   "cell_type": "code",
   "execution_count": null,
   "metadata": {},
   "outputs": [],
   "source": [
    "with zipfile.ZipFile(\"Sales.csv.zip\",\"r\") as zip_ref:\n",
    "    zip_ref.extractall()"
   ]
  },
  {
   "cell_type": "code",
   "execution_count": null,
   "metadata": {},
   "outputs": [],
   "source": [
    "df = pd.read_csv('Sales.csv')"
   ]
  },
  {
   "cell_type": "code",
   "execution_count": null,
   "metadata": {},
   "outputs": [],
   "source": [
    "df.head()"
   ]
  },
  {
   "cell_type": "code",
   "execution_count": null,
   "metadata": {},
   "outputs": [],
   "source": [
    "df.columns = ['id', 'date','zip','payment_usd','hospital_id','hospital_name']"
   ]
  },
  {
   "cell_type": "code",
   "execution_count": null,
   "metadata": {},
   "outputs": [],
   "source": [
    "df['date'] = pd.to_datetime(df['date'])"
   ]
  },
  {
   "cell_type": "code",
   "execution_count": null,
   "metadata": {},
   "outputs": [],
   "source": [
    "df['date'].head()"
   ]
  },
  {
   "cell_type": "code",
   "execution_count": null,
   "metadata": {},
   "outputs": [],
   "source": [
    "df['yr'] = pd.DatetimeIndex(df['date']).year \n",
    "df['month'] = pd.DatetimeIndex(df['date']).month"
   ]
  },
  {
   "cell_type": "code",
   "execution_count": null,
   "metadata": {},
   "outputs": [],
   "source": [
    "df['year_month'] = df['yr'].astype(str) + '-' + df['month'].astype(str)"
   ]
  },
  {
   "cell_type": "code",
   "execution_count": null,
   "metadata": {},
   "outputs": [],
   "source": [
    "df.head()"
   ]
  },
  {
   "cell_type": "markdown",
   "metadata": {},
   "source": [
    "## Total Sales"
   ]
  },
  {
   "cell_type": "code",
   "execution_count": null,
   "metadata": {},
   "outputs": [],
   "source": [
    "total_sales = df['payment_usd'].sum()"
   ]
  },
  {
   "cell_type": "code",
   "execution_count": null,
   "metadata": {},
   "outputs": [],
   "source": [
    "'${:,.2f}'.format(total_sales) "
   ]
  },
  {
   "cell_type": "markdown",
   "metadata": {},
   "source": [
    "## Total Sales by Month"
   ]
  },
  {
   "cell_type": "code",
   "execution_count": null,
   "metadata": {},
   "outputs": [],
   "source": [
    "df_sales_by_month = df.groupby(['yr', 'month'])['payment_usd'].sum()\n",
    "monthly_sales = df_sales_by_month.reset_index()\n",
    "monthly_sales"
   ]
  },
  {
   "cell_type": "code",
   "execution_count": null,
   "metadata": {},
   "outputs": [],
   "source": [
    "[calendar.month_name[i] for i in range(1,13)]"
   ]
  },
  {
   "cell_type": "code",
   "execution_count": null,
   "metadata": {},
   "outputs": [],
   "source": [
    "def line_plot(x, y, legend, title, x_label, y_label):\n",
    "    fig = go.Figure()\n",
    "\n",
    "    fig.add_trace(go.Scatter(\n",
    "        x = x,\n",
    "        y=y,\n",
    "        name=legend\n",
    "\n",
    "    ))\n",
    "\n",
    "    fig.update_layout(\n",
    "        title=title,\n",
    "        xaxis_title=x_label,\n",
    "        yaxis_title=y_label,\n",
    "        font=dict(\n",
    "            family=\"Courier New, monospace\",\n",
    "            size=18,\n",
    "            color=\"#7f7f7f\"\n",
    "        )\n",
    "    )\n",
    "\n",
    "\n",
    "    return fig"
   ]
  },
  {
   "cell_type": "code",
   "execution_count": null,
   "metadata": {},
   "outputs": [],
   "source": [
    "x = [calendar.month_name[i] for i in range(1,13)]\n",
    "y=monthly_sales['payment_usd']\n",
    "legend='Sales'\n",
    "title=\"Total Montly Revenue\"\n",
    "x_label='Month'\n",
    "y_label='Monthly Revenue (USD)'\n",
    "fig = line_plot(x, y, legend, title, x_label, y_label)\n",
    "fig.show()"
   ]
  },
  {
   "cell_type": "code",
   "execution_count": null,
   "metadata": {},
   "outputs": [],
   "source": [
    "fig.write_html('results/fig1_monthly_revenue.html')"
   ]
  },
  {
   "cell_type": "markdown",
   "metadata": {},
   "source": [
    "## Total Sales by Zip Code"
   ]
  },
  {
   "cell_type": "code",
   "execution_count": null,
   "metadata": {},
   "outputs": [],
   "source": [
    "set([len(i) for i in df['zip'].astype('str')])"
   ]
  },
  {
   "cell_type": "markdown",
   "metadata": {},
   "source": [
    "We have Nan, regular zips, and zip+4, need to collapse down to regular zip.  \n",
    "NaNs are ignored on the groupby"
   ]
  },
  {
   "cell_type": "code",
   "execution_count": null,
   "metadata": {},
   "outputs": [],
   "source": [
    "def trim_zip(zip):\n",
    "    return zip[:5]\n",
    "\n",
    "trim_zip('12345-1234')"
   ]
  },
  {
   "cell_type": "code",
   "execution_count": null,
   "metadata": {},
   "outputs": [],
   "source": [
    "df['5_digit_zip'] = df['zip'].astype('str').apply(trim_zip)"
   ]
  },
  {
   "cell_type": "code",
   "execution_count": null,
   "metadata": {},
   "outputs": [],
   "source": [
    "df_zip_sales = df.groupby(['5_digit_zip'])['payment_usd'].sum()\n",
    "df_zip_sales = df_zip_sales.reset_index()\n",
    "df_zip_sales.head()"
   ]
  },
  {
   "cell_type": "markdown",
   "metadata": {},
   "source": [
    "It doesn't make a lot of sense to try and plot 12K entries in one chart so we'll do top ten and bottom ten"
   ]
  },
  {
   "cell_type": "code",
   "execution_count": null,
   "metadata": {},
   "outputs": [],
   "source": [
    "df_top_ten = df_zip_sales.sort_values(['payment_usd'])[-10:]\n",
    "df_bottom_ten = df_zip_sales.sort_values(['payment_usd'])[:10]"
   ]
  },
  {
   "cell_type": "code",
   "execution_count": null,
   "metadata": {},
   "outputs": [],
   "source": [
    "def pie_plot(labels, values, title):\n",
    "    fig = go.Figure()\n",
    "\n",
    "    fig.add_trace(\n",
    "        go.Pie(\n",
    "            labels = labels,\n",
    "            values = values,\n",
    "    ))\n",
    "\n",
    "    fig.update_layout(\n",
    "        title = title,\n",
    "        font=dict(\n",
    "            family=\"Courier New, monospace\",\n",
    "            size=18,\n",
    "            color=\"#7f7f7f\"\n",
    "        )\n",
    "    )\n",
    "\n",
    "\n",
    "    return fig"
   ]
  },
  {
   "cell_type": "code",
   "execution_count": null,
   "metadata": {},
   "outputs": [],
   "source": [
    "labels = df_top_ten['5_digit_zip'].astype('str')\n",
    "values = df_top_ten['payment_usd']\n",
    "title=\"Top 10 Revenue Sources by Zip: 2018\"\n",
    "fig = pie_plot(labels, values, title)\n",
    "fig.show()"
   ]
  },
  {
   "cell_type": "code",
   "execution_count": null,
   "metadata": {},
   "outputs": [],
   "source": [
    "fig.write_html('results/fig2_Top_10_Revenue_by_zip.html')"
   ]
  },
  {
   "cell_type": "markdown",
   "metadata": {},
   "source": [
    "Hover over pie slice to see absolute value"
   ]
  },
  {
   "cell_type": "code",
   "execution_count": null,
   "metadata": {},
   "outputs": [],
   "source": [
    "labels = df_bottom_ten['5_digit_zip'].astype('str')\n",
    "values = df_bottom_ten['payment_usd']\n",
    "title=\"Bottom 10 Revenue Sources by Zip: 2018\"\n",
    "fig = pie_plot(labels, values, title)\n",
    "fig.show()"
   ]
  },
  {
   "cell_type": "code",
   "execution_count": null,
   "metadata": {},
   "outputs": [],
   "source": [
    "fig.write_html('results/fig3_Bottom_10_Revenue_by_zip.html')"
   ]
  },
  {
   "cell_type": "markdown",
   "metadata": {},
   "source": [
    "Hover over pie slice to see absolute value"
   ]
  },
  {
   "cell_type": "markdown",
   "metadata": {},
   "source": [
    "## Breakdown of sales by teaching hospital vs non-teaching hospital"
   ]
  },
  {
   "cell_type": "markdown",
   "metadata": {},
   "source": [
    "There were no columns in the dataset referring to the teaching hospital status so I found a 3rd party dataset in pdf format. The below code downloads that pdf, processes it, and left joins back to the original dataframe in order to categorize each hosptial."
   ]
  },
  {
   "cell_type": "code",
   "execution_count": null,
   "metadata": {},
   "outputs": [],
   "source": [
    "teach_hosp_url ='https://www.cms.gov/OpenPayments/Downloads/2018-Reporting-Cycle-Teaching-Hospital-List-pdf.pdf'"
   ]
  },
  {
   "cell_type": "code",
   "execution_count": null,
   "metadata": {},
   "outputs": [],
   "source": [
    "r = requests.get(teach_hosp_url)"
   ]
  },
  {
   "cell_type": "markdown",
   "metadata": {},
   "source": [
    "Download a pdf of the teaching hospitals as of Oct 2018"
   ]
  },
  {
   "cell_type": "code",
   "execution_count": null,
   "metadata": {},
   "outputs": [],
   "source": [
    "with open('teaching_hospitals.pdf', 'wb') as f:\n",
    "    f.write(r.content)"
   ]
  },
  {
   "cell_type": "code",
   "execution_count": null,
   "metadata": {},
   "outputs": [],
   "source": [
    "df_teach_hosp = read_pdf('teaching_hospitals.pdf', pages='all', pandas_options={'header': None})"
   ]
  },
  {
   "cell_type": "markdown",
   "metadata": {},
   "source": [
    "Massage into single data frame:  \n",
    "Note: the hospital id fields did not match those in the above pdf so had to use the name and zip as our join fields"
   ]
  },
  {
   "cell_type": "markdown",
   "metadata": {},
   "source": [
    "The PDF Scraper parsed the tables inconsistenly on different pages. I had to manually determine which column numbers correspond to which fields   \n",
    "9 cols, name=1, zip=8  \n",
    "12 cols, name=2, zip=7  \n",
    "13 cols, name =2, zip=8  \n",
    "14 cols, name=2, zip=8  "
   ]
  },
  {
   "cell_type": "code",
   "execution_count": null,
   "metadata": {},
   "outputs": [],
   "source": [
    "parse_dict = {9:(1,8), 12:(2,7), 13:(2,8), 14:(2, 8)}"
   ]
  },
  {
   "cell_type": "code",
   "execution_count": null,
   "metadata": {},
   "outputs": [],
   "source": [
    "name_list = []\n",
    "zip_list = []\n",
    "for df_page in df_teach_hosp:\n",
    "    num_cols = len(df_page.columns)\n",
    "    name_col, zip_col = parse_dict[num_cols]\n",
    "    name_list.append(df_page.iloc[:, name_col].tolist())\n",
    "    zip_list.append(df_page.iloc[:, zip_col].tolist())"
   ]
  },
  {
   "cell_type": "code",
   "execution_count": null,
   "metadata": {},
   "outputs": [],
   "source": [
    "def list_flatten(input_list):\n",
    "    # Flatten List of lists\n",
    "    flat_list = []\n",
    "    for sublist in input_list:\n",
    "        for item in sublist:\n",
    "            flat_list.append(item)\n",
    "    return flat_list"
   ]
  },
  {
   "cell_type": "code",
   "execution_count": null,
   "metadata": {},
   "outputs": [],
   "source": [
    "# first two entries on page 1 are nan and header\n",
    "flat_name_list = list_flatten(name_list)[2:]\n",
    "flat_zipcode_list = list_flatten(zip_list)[2:]"
   ]
  },
  {
   "cell_type": "code",
   "execution_count": null,
   "metadata": {},
   "outputs": [],
   "source": [
    "df_teaching_hosp = pd.DataFrame(flat_name_list, flat_zipcode_list)"
   ]
  },
  {
   "cell_type": "code",
   "execution_count": null,
   "metadata": {},
   "outputs": [],
   "source": [
    "df_teaching_hosp.columns = ['teaching_hosp']"
   ]
  },
  {
   "cell_type": "code",
   "execution_count": null,
   "metadata": {},
   "outputs": [],
   "source": [
    "df_teaching_hosp['zip_code'] = df_teaching_hosp.index"
   ]
  },
  {
   "cell_type": "code",
   "execution_count": null,
   "metadata": {},
   "outputs": [],
   "source": [
    "df_teaching_hosp.head()"
   ]
  },
  {
   "cell_type": "code",
   "execution_count": null,
   "metadata": {},
   "outputs": [],
   "source": [
    "# need zip to be str type for join later\n",
    "df['zip'] = df['zip'].astype('str')"
   ]
  },
  {
   "cell_type": "code",
   "execution_count": null,
   "metadata": {},
   "outputs": [],
   "source": [
    "df_teaching_hosp.head()"
   ]
  },
  {
   "cell_type": "markdown",
   "metadata": {},
   "source": [
    "Does our teaching_hosp data set use zip5?"
   ]
  },
  {
   "cell_type": "code",
   "execution_count": null,
   "metadata": {},
   "outputs": [],
   "source": [
    "df_teaching_hosp['zip_code'].head()"
   ]
  },
  {
   "cell_type": "code",
   "execution_count": null,
   "metadata": {},
   "outputs": [],
   "source": [
    "df['5_digit_zip'] = df['zip'].astype('str').apply(trim_zip)"
   ]
  },
  {
   "cell_type": "code",
   "execution_count": null,
   "metadata": {},
   "outputs": [],
   "source": [
    "df_teaching_hosp['5_digit_zip'] = df_teaching_hosp['zip_code'].astype('str').apply(trim_zip)\n",
    "#df_teaching_hosp['zip_code'].astype('str')"
   ]
  },
  {
   "cell_type": "code",
   "execution_count": null,
   "metadata": {},
   "outputs": [],
   "source": [
    "# need zip to be str type for join later\n",
    "#df_teaching_hosp['zip_code'] = df_teaching_hosp['zip_code'].astype('str')"
   ]
  },
  {
   "cell_type": "code",
   "execution_count": null,
   "metadata": {},
   "outputs": [],
   "source": [
    "df_teaching_hosp.head()"
   ]
  },
  {
   "cell_type": "code",
   "execution_count": null,
   "metadata": {},
   "outputs": [],
   "source": [
    "df.head()"
   ]
  },
  {
   "cell_type": "code",
   "execution_count": null,
   "metadata": {},
   "outputs": [],
   "source": [
    "# Left join on zipcode and hospital name since hospital ID doesn't seem to match our 3rd party data source\n",
    "joined_df = pd.merge(df, df_teaching_hosp,  how='left', left_on=['hospital_name','5_digit_zip'], right_on = ['teaching_hosp','5_digit_zip'])\n",
    "\n",
    "#Join just by Hospital Name\n",
    "#joined_df = pd.merge(df, df_teaching_hosp,  how='left', left_on=['hospital_name'], right_on = ['teaching_hosp'])\n"
   ]
  },
  {
   "cell_type": "code",
   "execution_count": null,
   "metadata": {},
   "outputs": [],
   "source": [
    "# if we have a label in the joined col then teaching hospital, if na then not teaching hospital\n",
    "joined_df['category_teaching'] = ~joined_df['teaching_hosp'].isna()"
   ]
  },
  {
   "cell_type": "code",
   "execution_count": null,
   "metadata": {},
   "outputs": [],
   "source": [
    "joined_df.head()"
   ]
  },
  {
   "cell_type": "code",
   "execution_count": null,
   "metadata": {},
   "outputs": [],
   "source": [
    "df_teaching_schools = joined_df.groupby(['category_teaching'])['payment_usd'].sum()\n",
    "df_teaching_schools = df_teaching_schools.reset_index()\n",
    "df_teaching_schools[df_teaching_schools['category_teaching'] == True]"
   ]
  },
  {
   "cell_type": "code",
   "execution_count": null,
   "metadata": {},
   "outputs": [],
   "source": [
    "df_teaching_schools = df_teaching_schools.replace([True, False], ['teaching', 'non-teaching'])"
   ]
  },
  {
   "cell_type": "code",
   "execution_count": null,
   "metadata": {},
   "outputs": [],
   "source": [
    "labels = df_teaching_schools['category_teaching'].astype('str')\n",
    "values = df_teaching_schools['payment_usd']\n",
    "title=\"2018 Revenue Breakdown by Teaching Institution (USD)\"\n",
    "fig = pie_plot(labels, values, title)\n",
    "fig.show()\n",
    "fig.write_html('results/fig4_Revenue_by_Teaching_vs_Non_Teach_Inst.html')"
   ]
  },
  {
   "cell_type": "markdown",
   "metadata": {},
   "source": [
    "It appears ~ 16% of revenue is from Teaching Institutions"
   ]
  },
  {
   "cell_type": "markdown",
   "metadata": {},
   "source": [
    "### Notes\n",
    "This 16% seems low so I also tried join just on the name and excluded zip and the percent of revenue of teaching institutions rose to 23.1%. However there are many generic hospital names like Saint Mary's so using a zip in the join ensures we don't over count teaching institutions. The percentage is likely to be between 16 - 23%."
   ]
  },
  {
   "cell_type": "code",
   "execution_count": null,
   "metadata": {},
   "outputs": [],
   "source": []
  }
 ],
 "metadata": {
  "kernelspec": {
   "display_name": "analysis",
   "language": "python",
   "name": "analysis"
  },
  "language_info": {
   "codemirror_mode": {
    "name": "ipython",
    "version": 3
   },
   "file_extension": ".py",
   "mimetype": "text/x-python",
   "name": "python",
   "nbconvert_exporter": "python",
   "pygments_lexer": "ipython3",
   "version": "3.6.6"
  },
  "widgets": {
   "application/vnd.jupyter.widget-state+json": {
    "state": {},
    "version_major": 2,
    "version_minor": 0
   }
  }
 },
 "nbformat": 4,
 "nbformat_minor": 2
}
